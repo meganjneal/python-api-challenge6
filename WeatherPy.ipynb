 {  
  "cells": [  
   {  
    "cell_type": "markdown",  
    "metadata": {},  
    "source": [  
     "# WeatherPy\n",  
     "### Megan Neal\n",  
     "\n",  
     "This notebook analyzes weather data from `cities.csv` to produce scatter plots of key relationships. This is built using methods taught by Brandon Knox."  
    ]  
   },  
   {  
    "cell_type": "code",  
    "execution_count": null,  
    "metadata": {},  
    "source": [  
     "# Import necessary libraries\n",  
     "import pandas as pd\n",  
     "import matplotlib.pyplot as plt\n",  
     "import numpy as np\n",  
     "from scipy import stats\n",  
     "\n",  
     "# Load data from cities.csv\n",  
     "cities_df = pd.read_csv('cities.csv')\n",  
     "print('Data loaded:')\n",  
     "print(cities_df.head())"  
    ]  
   },  
   {  
    "cell_type": "code",  
    "execution_count": null,  
    "metadata": {},  
    "source": [  
     "# Create scatter plot: Latitude vs. Max Temperature\n",  
     "plt.figure(figsize=(10,6))\n",  
     "plt.scatter(cities_df['Lat'], cities_df['Max Temp'], color='blue', alpha=0.5)\n",  
     "plt.title('City Latitude vs. Max Temperature')\n",  
     "plt.xlabel('Latitude')\n",  
     "plt.ylabel('Max Temperature (°C)')\n",  
     "plt.grid(True)\n",  
     "plt.savefig('Fig1.png')\n",  
     "plt.show()"  
    ]  
   },  
   {  
    "cell_type": "code",  
    "execution_count": null,  
    "metadata": {},  
    "source": [  
     "# Create scatter plot: Latitude vs. Humidity\n",  
     "plt.figure(figsize=(10,6))\n",  
     "plt.scatter(cities_df['Lat'], cities_df['Humidity'], color='green', alpha=0.5)\n",  
     "plt.title('City Latitude vs. Humidity')\n",  
     "plt.xlabel('Latitude')\n",  
     "plt.ylabel('Humidity (%)')\n",  
     "plt.grid(True)\n",  
     "plt.savefig('Fig2.png')\n",  
     "plt.show()"  
    ]  
   },  
   {  
    "cell_type": "code",  
    "execution_count": null,  
    "metadata": {},  
    "source": [  
     "# Create scatter plot: Latitude vs. Cloudiness\n",  
     "plt.figure(figsize=(10,6))\n",  
     "plt.scatter(cities_df['Lat'], cities_df['Cloudiness'], color='orange', alpha=0.5)\n",  
     "plt.title('City Latitude vs. Cloudiness')\n",  
     "plt.xlabel('Latitude')\n",  
     "plt.ylabel('Cloudiness (%)')\n",  
     "plt.grid(True)\n",  
     "plt.savefig('Fig3.png')\n",  
     "plt.show()"  
    ]  
   },  
   {  
    "cell_type": "code",  
    "execution_count": null,  
    "metadata": {},  
    "source": [  
     "# Create scatter plot: Latitude vs. Wind Speed\n",  
     "plt.figure(figsize=(10,6))\n",  
     "plt.scatter(cities_df['Lat'], cities_df['Wind Speed'], color='purple', alpha=0.5)\n",  
     "plt.title('City Latitude vs. Wind Speed')\n",  
     "plt.xlabel('Latitude')\n",  
     "plt.ylabel('Wind Speed (m/s)')\n",  
     "plt.grid(True)\n",  
     "plt.savefig('Fig4.png')\n",  
     "plt.show()"  
    ]  
   },  
   {  
    "cell_type": "code",  
    "execution_count": null,  
    "metadata": {},  
    "source": [  
     "# Separate data by hemisphere\n",  
     "northern_hemi = cities_df[cities_df['Lat'] >= 0]\n",  
     "southern_hemi = cities_df[cities_df['Lat'] < 0]\n",  
     "\n",  
     "# Linear regression for Northern Hemisphere: Temperature vs. Latitude\n",  
     "slope, intercept, r_value, p_value, std_err = stats.linregress(northern_hemi['Lat'], northern_hemi['Max Temp'])\n",  
     "line = slope * northern_hemi['Lat'] + intercept\n",  
     "\n",  
     "plt.figure(figsize=(10,6))\n",  
     "plt.scatter(northern_hemi['Lat'], northern_hemi['Max Temp'], color='blue', alpha=0.5, label='Data')\n",  
     "plt.plot(northern_hemi['Lat'], line, color='red', label=f'Regression line: y = {slope:.2f}x + {intercept:.2f}')\n",  
     "plt.title('Northern Hemisphere: Temperature vs. Latitude')\n",  
     "plt.xlabel('Latitude')\n",  
     "plt.ylabel('Max Temperature (°C)')\n",  
     "plt.legend()\n",  
     "plt.grid(True)\n",  
     "plt.show()"  
    ]  
   }  
  ],  
  "metadata": {  
   "kernelspec": {  
    "display_name": "Python 3",  
    "language": "python",  
    "name": "python3"  
   },  
   "language_info": {  
    "name": "python",  
    "version": "3.x"  
   }  
  },  
  "nbformat": 4,  
  "nbformat_minor": 2  
 }  